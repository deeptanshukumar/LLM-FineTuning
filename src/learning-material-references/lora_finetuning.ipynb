{
 "cells": [
  {
   "cell_type": "markdown",
   "metadata": {},
   "source": [
    "# LoRA Fine-Tuning for Gemma 3 270m Model\n",
    "\n",
    "This notebook demonstrates how to fine-tune the Gemma 3 270m model using the Low-Rank Adaptation (LoRA) technique. LoRA is a parameter-efficient fine-tuning method that allows for training large models with fewer parameters.\n",
    "\n",
    "## Table of Contents\n",
    "1. [Setup](#setup)\n",
    "2. [Load the Model](#load-the-model)\n",
    "3. [Prepare the Dataset](#prepare-the-dataset)\n",
    "4. [LoRA Configuration](#lora-configuration)\n",
    "5. [Training Loop](#training-loop)\n",
    "6. [Evaluation](#evaluation)\n",
    "7. [Conclusion](#conclusion)\n"
   ]
  },
  {
   "cell_type": "code",
   "execution_count": null,
   "metadata": {
    "id": "setup"
   },
   "outputs": [],
   "source": [
    "# Setup\n",
    "\n",
    "import torch\n",
    "from transformers import AutoModelForCausalLM, AutoTokenizer\n",
    "from peft import get_peft_model, LoraConfig\n",
    "\n",
    "# Check if GPU is available\n",
    "device = 'cuda' if torch.cuda.is_available() else 'cpu'\n",
    "print(f'Using device: {device}')"
   ]
  },
  {
   "cell_type": "code",
   "execution_count": null,
   "metadata": {
    "id": "load-the-model"
   },
   "outputs": [],
   "source": [
    "# Load the Model\n",
    "\n",
    "model_name = 'google/gemma-3-270m'\n",
    "tokenizer = AutoTokenizer.from_pretrained(model_name)\n",
    "model = AutoModelForCausalLM.from_pretrained(model_name).to(device)\n",
    "print('Model loaded successfully.')"
   ]
  },
  {
   "cell_type": "code",
   "execution_count": null,
   "metadata": {
    "id": "prepare-the-dataset"
   },
   "outputs": [],
   "source": [
    "# Prepare the Dataset\n",
    "\n",
    "# Load your dataset here\n",
    "# Example: dataset = load_dataset('your_dataset')\n",
    "# Preprocess the dataset as needed\n",
    "\n",
    "def preprocess_data(data):\n",
    "    # Implement your preprocessing logic here\n",
    "    return data\n",
    "\n",
    "# dataset = preprocess_data(dataset)"
   ]
  },
  {
   "cell_type": "code",
   "execution_count": null,
   "metadata": {
    "id": "lora-configuration"
   },
   "outputs": [],
   "source": [
    "# LoRA Configuration\n",
    "\n",
    "lora_config = LoraConfig(\n",
    "    r=16,\n",
    "    lora_alpha=32,\n",
    "    lora_dropout=0.1,\n",
    "    bias='none'\n",
    ")\n",
    "model = get_peft_model(model, lora_config)\n",
    "print('LoRA configuration applied.')"
   ]
  },
  {
   "cell_type": "code",
   "execution_count": null,
   "metadata": {
    "id": "training-loop"
   },
   "outputs": [],
   "source": [
    "# Training Loop\n",
    "\n",
    "from transformers import Trainer, TrainingArguments\n",
    "\n",
    "training_args = TrainingArguments(\n",
    "    output_dir='./results',\n",
    "    evaluation_strategy='epoch',\n",
    "    learning_rate=5e-5,\n",
    "    per_device_train_batch_size=4,\n",
    "    num_train_epochs=3,\n",
    "    weight_decay=0.01,\n",
    ")\n",
    "\n",
    "trainer = Trainer(\n",
    "    model=model,\n",
    "    args=training_args,\n",
    "    train_dataset=dataset,\n",
    ")\n",
    "\n",
    "trainer.train()"
   ]
  },
  {
   "cell_type": "code",
   "execution_count": null,
   "metadata": {
    "id": "evaluation"
   },
   "outputs": [],
   "source": [
    "# Evaluation\n",
    "\n",
    "trainer.evaluate()"
   ]
  },
  {
   "cell_type": "markdown",
   "metadata": {},
   "source": [
    "# Conclusion\n",
    "\n",
    "In this notebook, we have successfully fine-tuned the Gemma 3 270m model using the LoRA technique. You can further explore the results and adjust the hyperparameters as needed."
   ]
  }
 ],
 "metadata": {
  "kernelspec": {
   "display_name": "Python 3",
   "language": "python",
   "name": "python3"
  },
  "language_info": {
   "codemirror_mode": {
    "name": "ipython",
    "version": 3
   },
   "file_extension": ".py",
   "mimetype": "text/x-python",
   "name": "python",
   "nbconvert_exporter": "python",
   "pygments_lexer": "ipython3",
   "version": "3.8.5"
  }
 },
 "nbformat": 4,
 "nbformat_minor": 4
}